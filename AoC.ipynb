{
 "cells": [
  {
   "cell_type": "markdown",
   "id": "d8cb2e8b",
   "metadata": {},
   "source": [
    "# Day 1"
   ]
  },
  {
   "cell_type": "code",
   "execution_count": 1,
   "id": "a96dcd16",
   "metadata": {},
   "outputs": [],
   "source": [
    "with open(\"day1.txt\") as file:\n",
    "    lines = [line.rstrip() for line in file]"
   ]
  },
  {
   "cell_type": "code",
   "execution_count": 2,
   "id": "106fc662",
   "metadata": {},
   "outputs": [
    {
     "name": "stdout",
     "output_type": "stream",
     "text": [
      "69912\n",
      "151\n"
     ]
    }
   ],
   "source": [
    "maxElf = 0\n",
    "maxElfNums = 0\n",
    "currElf = 0\n",
    "currElfnum = 1\n",
    "for x in range(len(lines)):\n",
    "    if lines[x] != '':\n",
    "        currElf += int(lines[x])\n",
    "    else: \n",
    "        if currElf > maxElf:\n",
    "            maxElf = 0 + currElf\n",
    "            maxElfNum = 0 + currElfnum\n",
    "        currElf = 0\n",
    "        currElfnum += 1\n",
    "print(maxElf)\n",
    "print(maxElfNum)"
   ]
  },
  {
   "cell_type": "code",
   "execution_count": 3,
   "id": "4be88790",
   "metadata": {},
   "outputs": [
    {
     "name": "stdout",
     "output_type": "stream",
     "text": [
      "208180\n"
     ]
    }
   ],
   "source": [
    "maxElf = 0\n",
    "maxElfNums = 0\n",
    "currElf = 0\n",
    "currElfnum = 1\n",
    "maxElf = [0,0,0]\n",
    "maxElfNums = [0,0,0]\n",
    "for x in range(len(lines)):\n",
    "    if lines[x] != '':\n",
    "        currElf += int(lines[x])\n",
    "    else:\n",
    "        if currElf > min(maxElf):\n",
    "            maxElf = sorted(maxElf[1:3] + [currElf+0] )\n",
    "        currElf = 0\n",
    "print(sum(maxElf))"
   ]
  },
  {
   "cell_type": "markdown",
   "id": "2f6484b5",
   "metadata": {},
   "source": [
    "# Day 2"
   ]
  },
  {
   "cell_type": "code",
   "execution_count": 4,
   "id": "771f9d79",
   "metadata": {},
   "outputs": [],
   "source": [
    "with open(\"day2.txt\") as file:\n",
    "    lines = [line.rstrip() for line in file]"
   ]
  },
  {
   "cell_type": "code",
   "execution_count": 5,
   "id": "b75abf16",
   "metadata": {},
   "outputs": [],
   "source": [
    "def points(line):\n",
    "    them = line[0:1]\n",
    "    me = line[-1:]\n",
    "    shape = {\"X\" : 1,\n",
    "            \"Y\": 2,\n",
    "            \"Z\": 3}\n",
    "    beats = {\"A\": \"Y\",\n",
    "            \"B\": \"Z\",\n",
    "            \"C\": \"X\"}\n",
    "    same = {\"A\": \"X\",\n",
    "           \"B\": \"Y\",\n",
    "           \"C\": \"Z\"}\n",
    "    out = 0 \n",
    "    out += shape[me]\n",
    "    if beats[them] == me:\n",
    "        out += 6\n",
    "    if same[them] == me:\n",
    "        out += 3\n",
    "    return(out)"
   ]
  },
  {
   "cell_type": "code",
   "execution_count": 6,
   "id": "cade32ba",
   "metadata": {},
   "outputs": [],
   "source": [
    "def points1(line):\n",
    "    them = line[0:1]\n",
    "    me = line[-1:]\n",
    "    shape = {\"A\" : 1,\n",
    "            \"B\": 2,\n",
    "            \"C\": 3}\n",
    "    beats = {\"A\": \"B\",\n",
    "            \"B\": \"C\",\n",
    "            \"C\": \"A\"}\n",
    "    loses = {\"A\": \"C\",\n",
    "           \"B\": \"A\",\n",
    "           \"C\": \"B\"}\n",
    "    out = 0 \n",
    "    if me == \"X\":\n",
    "        out += 0 + shape[loses[them]]\n",
    "    elif me == \"Y\":\n",
    "        out += 3 + shape[them]\n",
    "    else:\n",
    "        out += 6 + shape[beats[them]]\n",
    "    return(out)"
   ]
  },
  {
   "cell_type": "code",
   "execution_count": 7,
   "id": "ad5c62db",
   "metadata": {
    "scrolled": true
   },
   "outputs": [
    {
     "name": "stdout",
     "output_type": "stream",
     "text": [
      "11906\n"
     ]
    }
   ],
   "source": [
    "total = 0\n",
    "for line in lines:\n",
    "    total += points(line)\n",
    "print(total)"
   ]
  },
  {
   "cell_type": "code",
   "execution_count": 8,
   "id": "a6ffa125",
   "metadata": {},
   "outputs": [
    {
     "name": "stdout",
     "output_type": "stream",
     "text": [
      "11186\n"
     ]
    }
   ],
   "source": [
    "total = 0\n",
    "for line in lines:\n",
    "    total += points1(line)\n",
    "print(total)"
   ]
  },
  {
   "cell_type": "markdown",
   "id": "63fbf936",
   "metadata": {},
   "source": [
    "# Day 3"
   ]
  },
  {
   "cell_type": "code",
   "execution_count": 9,
   "id": "ff6f1fab",
   "metadata": {},
   "outputs": [],
   "source": [
    "import string\n",
    "with open(\"day3.txt\") as file:\n",
    "    lines = [line.rstrip() for line in file]"
   ]
  },
  {
   "cell_type": "code",
   "execution_count": 10,
   "id": "718509ac",
   "metadata": {},
   "outputs": [
    {
     "data": {
      "text/plain": [
       "8085"
      ]
     },
     "execution_count": 10,
     "metadata": {},
     "output_type": "execute_result"
    }
   ],
   "source": [
    "total = 0\n",
    "for line in lines:\n",
    "    matches = set(line[:len(line)//2]) & set(line[len(line)//2:])\n",
    "    total += sum(string.ascii_letters.index(x) +1 for x in matches)\n",
    "total"
   ]
  },
  {
   "cell_type": "code",
   "execution_count": 11,
   "id": "fd6b5bac",
   "metadata": {
    "scrolled": true
   },
   "outputs": [
    {
     "name": "stdout",
     "output_type": "stream",
     "text": [
      "2515\n"
     ]
    }
   ],
   "source": [
    "total = 0\n",
    "for i in range(len(lines)//3):\n",
    "    matches = (set(lines[i*3]) & set(lines[i*3+1]) & set(lines[i*3+2]))\n",
    "    total += sum(string.ascii_letters.index(x) +1 for x in matches)\n",
    "print(total)"
   ]
  },
  {
   "cell_type": "markdown",
   "id": "13550833",
   "metadata": {},
   "source": [
    "# Day 4"
   ]
  },
  {
   "cell_type": "code",
   "execution_count": 12,
   "id": "2375fa38",
   "metadata": {},
   "outputs": [],
   "source": [
    "import string\n",
    "with open(\"day4.txt\") as file:\n",
    "    lines = [line.rstrip().split(\",\") for line in file]\n",
    "    lines = [sorted([sorted([int(z) for z in x.split(\"-\")]) for x in y]) for y in lines]"
   ]
  },
  {
   "cell_type": "code",
   "execution_count": 13,
   "id": "6bc42cfc",
   "metadata": {},
   "outputs": [
    {
     "data": {
      "text/plain": [
       "433"
      ]
     },
     "execution_count": 13,
     "metadata": {},
     "output_type": "execute_result"
    }
   ],
   "source": [
    "sum([(((y<=x)&(z<=x))|((w==y)&(z>=x))) for [[w,x],[y,z]] in lines])"
   ]
  },
  {
   "cell_type": "code",
   "execution_count": 14,
   "id": "48b4bcbc",
   "metadata": {},
   "outputs": [
    {
     "data": {
      "text/plain": [
       "852"
      ]
     },
     "execution_count": 14,
     "metadata": {},
     "output_type": "execute_result"
    }
   ],
   "source": [
    "len(lines) - sum([(x < y) for [[w,x],[y,z]] in lines])"
   ]
  },
  {
   "cell_type": "markdown",
   "id": "04c71565",
   "metadata": {},
   "source": [
    "# Day 5"
   ]
  },
  {
   "cell_type": "code",
   "execution_count": 15,
   "id": "19bfabf9",
   "metadata": {},
   "outputs": [],
   "source": [
    "import re\n",
    "import copy\n",
    "with open(\"day5.txt\") as file:\n",
    "    lines = [line.rstrip() for line in file]\n",
    "header = 0\n",
    "for i in range(len(lines)):\n",
    "    if lines[i][1] == \"1\":\n",
    "        header = i\n",
    "        break\n",
    "cols = []\n",
    "for i in range(header):\n",
    "    cols.append([lines[i][4*n+1] for n in range(9)])\n",
    "cols = [\"\".join(x).strip() for x in list(map(list, zip(*cols)))]\n",
    "instructions = [re.findall(r\"\\d+\",x) for x in lines[header+2:]]"
   ]
  },
  {
   "cell_type": "code",
   "execution_count": 16,
   "id": "4759fb16",
   "metadata": {
    "scrolled": false
   },
   "outputs": [
    {
     "data": {
      "text/plain": [
       "['SJDPLDSCVCHPQ',\n",
       " 'BGT',\n",
       " 'PDRPM',\n",
       " 'QJZM',\n",
       " 'RNNLRTG',\n",
       " 'SFFVVN',\n",
       " 'CRWCBSHS',\n",
       " 'DQVJRMSBL',\n",
       " 'F']"
      ]
     },
     "execution_count": 16,
     "metadata": {},
     "output_type": "execute_result"
    }
   ],
   "source": [
    "sol = copy.deepcopy(cols)\n",
    "for x in instructions:\n",
    "    sol[int(x[2]) -1] =sol[int(x[1]) -1][:int(x[0])][::-1] + (sol[int(x[2])-1])\n",
    "    sol[int(x[1]) -1] = sol[int(x[1]) -1][int(x[0]):]\n",
    "sol"
   ]
  },
  {
   "cell_type": "code",
   "execution_count": 17,
   "id": "9f3efa55",
   "metadata": {},
   "outputs": [
    {
     "data": {
      "text/plain": [
       "['RJPCVDZSTDMRF',\n",
       " 'GBM',\n",
       " 'LVDNB',\n",
       " 'VCNF',\n",
       " 'RQGSMDL',\n",
       " 'CHHTRC',\n",
       " 'QPVJSLSW',\n",
       " 'SFNQJPRPS',\n",
       " 'B']"
      ]
     },
     "execution_count": 17,
     "metadata": {},
     "output_type": "execute_result"
    }
   ],
   "source": [
    "sol = copy.deepcopy(cols)\n",
    "for x in instructions:\n",
    "    sol[int(x[2]) -1] =sol[int(x[1]) -1][:int(x[0])] + (sol[int(x[2])-1])\n",
    "    sol[int(x[1]) -1] = sol[int(x[1]) -1][int(x[0]):]\n",
    "sol"
   ]
  },
  {
   "cell_type": "markdown",
   "id": "24c10f8b",
   "metadata": {},
   "source": [
    "# Day 6"
   ]
  },
  {
   "cell_type": "code",
   "execution_count": 18,
   "id": "d8e5e427",
   "metadata": {},
   "outputs": [],
   "source": [
    "with open(\"day6.txt\") as file:\n",
    "    lines = [line.rstrip() for line in file]"
   ]
  },
  {
   "cell_type": "code",
   "execution_count": 19,
   "id": "e6de7385",
   "metadata": {},
   "outputs": [
    {
     "name": "stdout",
     "output_type": "stream",
     "text": [
      "['s', 'f', 'c', 'z']\n",
      "1361\n"
     ]
    }
   ],
   "source": [
    "last4 = [\"r\",\"r\",\"r\",\"r\"]\n",
    "for x in range(len(lines[0])):\n",
    "    last4.pop(0)\n",
    "    last4.append(lines[0][x])\n",
    "    if len(set(last4)) == 4:\n",
    "        print(last4)\n",
    "        print(x + 1)\n",
    "        break"
   ]
  },
  {
   "cell_type": "code",
   "execution_count": 20,
   "id": "89c620e9",
   "metadata": {},
   "outputs": [
    {
     "name": "stdout",
     "output_type": "stream",
     "text": [
      "['w', 'q', 'r', 'p', 'l', 'c', 'f', 'v', 'z', 'm', 't', 'h', 's', 'd']\n",
      "3263\n"
     ]
    }
   ],
   "source": [
    "last14 = [\"r\"]*14\n",
    "for x in range(len(lines[0])):\n",
    "    last14.pop(0)\n",
    "    last14.append(lines[0][x])\n",
    "    if len(set(last14)) == 14:\n",
    "        print(last14)\n",
    "        print(x + 1)\n",
    "        break"
   ]
  },
  {
   "cell_type": "markdown",
   "id": "6545fa25",
   "metadata": {},
   "source": [
    "# Day 7"
   ]
  },
  {
   "cell_type": "code",
   "execution_count": 1,
   "id": "989c4bf9",
   "metadata": {},
   "outputs": [],
   "source": [
    "with open(\"day7.txt\") as file:\n",
    "    lines = [line.rstrip() for line in file]"
   ]
  },
  {
   "cell_type": "code",
   "execution_count": 56,
   "id": "0e9c6edd",
   "metadata": {
    "scrolled": true
   },
   "outputs": [],
   "source": [
    "def getloc(dictionary, locator):\n",
    "    if locator == \"\":\n",
    "        return(dictionary)\n",
    "    locs = locator.split(\"/\")\n",
    "    if len(locs) > 2:\n",
    "        return(getloc(dictionary[locs[1]],\n",
    "              \"/\".join([locs[0]]+locs[2:])))\n",
    "    else:\n",
    "        return(dictionary[locs[1]])\n",
    "\n",
    "tree = {}\n",
    "curr_loc = \"\"\n",
    "linenum = 0\n",
    "for line in lines[1:]:\n",
    "    curr_line = line.split(\" \")\n",
    "    if (line[0] == \"$\") & (curr_line[1] == \"cd\"):\n",
    "        if curr_line[-1] == \"..\":\n",
    "            curr_loc = \"/\".join(curr_loc.split(\"/\")[:-1])\n",
    "        else:\n",
    "            curr_loc = \"/\".join([curr_loc, curr_line[-1]])\n",
    "    elif curr_line[0] == \"dir\":\n",
    "        loc = getloc(tree,curr_loc)\n",
    "        loc[curr_line[1]] = {}\n",
    "    elif (line[0] != \"$\"):\n",
    "        loc = getloc(tree,curr_loc)\n",
    "        loc[curr_line[1]] = int(curr_line[0])"
   ]
  },
  {
   "cell_type": "code",
   "execution_count": 58,
   "id": "6013379f",
   "metadata": {},
   "outputs": [
    {
     "name": "stdout",
     "output_type": "stream",
     "text": [
      "1491614\n"
     ]
    }
   ],
   "source": [
    "def getfoldertotal(folder):\n",
    "    total = 0\n",
    "    internal = []\n",
    "    for x in folder:\n",
    "        if type(folder[x]) is dict:\n",
    "            tot = getfoldertotal(folder[x])\n",
    "            internal += (tot[1])\n",
    "            internal.append((x,tot[0]))\n",
    "            total += tot[0]\n",
    "        else:\n",
    "            total += folder[x]\n",
    "    return((total,internal))"
   ]
  },
  {
   "cell_type": "code",
   "execution_count": 61,
   "id": "22ad40f2",
   "metadata": {},
   "outputs": [
    {
     "name": "stdout",
     "output_type": "stream",
     "text": [
      "1491614\n"
     ]
    }
   ],
   "source": [
    "part1 = 0\n",
    "sums = getfoldertotal(tree)\n",
    "for folder in sums[1]:\n",
    "    if folder[1] <= 100000:\n",
    "        part1 += folder[1]\n",
    "print(part1)"
   ]
  },
  {
   "cell_type": "code",
   "execution_count": 65,
   "id": "6d4db083",
   "metadata": {},
   "outputs": [
    {
     "name": "stdout",
     "output_type": "stream",
     "text": [
      "6400111\n"
     ]
    }
   ],
   "source": [
    "space = 70000000 - sums[0]\n",
    "required = 30000000 - space\n",
    "print(sorted([y[1] for y in sums[1] if y[1]  > required])[0])"
   ]
  }
 ],
 "metadata": {
  "kernelspec": {
   "display_name": "Python 3 (ipykernel)",
   "language": "python",
   "name": "python3"
  },
  "language_info": {
   "codemirror_mode": {
    "name": "ipython",
    "version": 3
   },
   "file_extension": ".py",
   "mimetype": "text/x-python",
   "name": "python",
   "nbconvert_exporter": "python",
   "pygments_lexer": "ipython3",
   "version": "3.9.7"
  }
 },
 "nbformat": 4,
 "nbformat_minor": 5
}
